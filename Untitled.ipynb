{
 "cells": [
  {
   "cell_type": "code",
   "execution_count": 81,
   "id": "7cb10adf",
   "metadata": {},
   "outputs": [],
   "source": [
    "import pandas as pd\n",
    "import numpy as np\n",
    "from sklearn.model_selection import train_test_split,RandomizedSearchCV\n",
    "from sklearn.linear_model import LogisticRegression\n",
    "from sklearn.tree import DecisionTreeClassifier\n",
    "from sklearn.neighbors import KNeighborsClassifier\n",
    "from sklearn.ensemble import RandomForestClassifier\n",
    "from sklearn.metrics import classification_report,confusion_matrix,accuracy_score"
   ]
  },
  {
   "cell_type": "code",
   "execution_count": 2,
   "id": "75558121",
   "metadata": {},
   "outputs": [],
   "source": [
    "df = pd.read_csv(\"csv_files/Iris.csv\")"
   ]
  },
  {
   "cell_type": "code",
   "execution_count": 3,
   "id": "e1f4a5f6",
   "metadata": {},
   "outputs": [
    {
     "name": "stdout",
     "output_type": "stream",
     "text": [
      "<class 'pandas.core.frame.DataFrame'>\n",
      "RangeIndex: 150 entries, 0 to 149\n",
      "Data columns (total 6 columns):\n",
      " #   Column         Non-Null Count  Dtype  \n",
      "---  ------         --------------  -----  \n",
      " 0   Id             150 non-null    int64  \n",
      " 1   SepalLengthCm  150 non-null    float64\n",
      " 2   SepalWidthCm   150 non-null    float64\n",
      " 3   PetalLengthCm  150 non-null    float64\n",
      " 4   PetalWidthCm   150 non-null    float64\n",
      " 5   Species        150 non-null    object \n",
      "dtypes: float64(4), int64(1), object(1)\n",
      "memory usage: 7.2+ KB\n"
     ]
    }
   ],
   "source": [
    "df.info()"
   ]
  },
  {
   "cell_type": "code",
   "execution_count": 5,
   "id": "f631a757",
   "metadata": {},
   "outputs": [
    {
     "data": {
      "text/plain": [
       "Id               0\n",
       "SepalLengthCm    0\n",
       "SepalWidthCm     0\n",
       "PetalLengthCm    0\n",
       "PetalWidthCm     0\n",
       "Species          0\n",
       "dtype: int64"
      ]
     },
     "execution_count": 5,
     "metadata": {},
     "output_type": "execute_result"
    }
   ],
   "source": [
    "df.isna().sum()"
   ]
  },
  {
   "cell_type": "code",
   "execution_count": 32,
   "id": "b7370671",
   "metadata": {},
   "outputs": [
    {
     "data": {
      "text/plain": [
       "Iris-setosa        50\n",
       "Iris-versicolor    50\n",
       "Iris-virginica     50\n",
       "Name: Species, dtype: int64"
      ]
     },
     "execution_count": 32,
     "metadata": {},
     "output_type": "execute_result"
    }
   ],
   "source": [
    "df[\"Species\"].value_counts()"
   ]
  },
  {
   "cell_type": "code",
   "execution_count": 34,
   "id": "84205ae5",
   "metadata": {},
   "outputs": [],
   "source": [
    "Species = df[\"Species\"].replace({\"Iris-setosa\":0,\"Iris-versicolor\":1,\"Iris-virginica\":2})\n",
    "df[\"Species\"] = Species"
   ]
  },
  {
   "cell_type": "markdown",
   "id": "83e4013f",
   "metadata": {},
   "source": [
    "## Trian test split"
   ]
  },
  {
   "cell_type": "code",
   "execution_count": 35,
   "id": "12d58605",
   "metadata": {},
   "outputs": [],
   "source": [
    "x = df.drop(\"Species\",axis=1)\n",
    "y = df[\"Species\"]"
   ]
  },
  {
   "cell_type": "code",
   "execution_count": 36,
   "id": "5be53952",
   "metadata": {},
   "outputs": [],
   "source": [
    "x_train,x_test,y_train,y_test=train_test_split(x,y,random_state=10,stratify=y)"
   ]
  },
  {
   "cell_type": "markdown",
   "id": "e1468e00",
   "metadata": {},
   "source": [
    "## model Building"
   ]
  },
  {
   "cell_type": "code",
   "execution_count": 47,
   "id": "4b20c222",
   "metadata": {},
   "outputs": [],
   "source": [
    "logistic_iris = LogisticRegression(max_iter=500)"
   ]
  },
  {
   "cell_type": "code",
   "execution_count": 48,
   "id": "91abf03d",
   "metadata": {},
   "outputs": [
    {
     "data": {
      "text/plain": [
       "LogisticRegression(max_iter=500)"
      ]
     },
     "execution_count": 48,
     "metadata": {},
     "output_type": "execute_result"
    }
   ],
   "source": [
    "logistic_iris.fit(x_train,y_train)"
   ]
  },
  {
   "cell_type": "code",
   "execution_count": 51,
   "id": "4eb102f6",
   "metadata": {},
   "outputs": [],
   "source": [
    "#testing data evaluation\n",
    "y_pred =logistic_iris.predict(x_test)"
   ]
  },
  {
   "cell_type": "code",
   "execution_count": 55,
   "id": "7b160077",
   "metadata": {},
   "outputs": [],
   "source": [
    "logistic_cnf_mtrix = confusion_matrix(y_test,y_pred)"
   ]
  },
  {
   "cell_type": "code",
   "execution_count": 53,
   "id": "c108f536",
   "metadata": {},
   "outputs": [
    {
     "data": {
      "text/plain": [
       "array([[12,  0,  0],\n",
       "       [ 0, 12,  1],\n",
       "       [ 0,  0, 13]], dtype=int64)"
      ]
     },
     "execution_count": 53,
     "metadata": {},
     "output_type": "execute_result"
    }
   ],
   "source": [
    "logistic_cnf_mtrix"
   ]
  },
  {
   "cell_type": "code",
   "execution_count": 56,
   "id": "c11a2aa2",
   "metadata": {},
   "outputs": [],
   "source": [
    "logistic_clf_report = classification_report(y_test,y_pred)"
   ]
  },
  {
   "cell_type": "code",
   "execution_count": 58,
   "id": "690ffe00",
   "metadata": {},
   "outputs": [
    {
     "name": "stdout",
     "output_type": "stream",
     "text": [
      "Clf report\n",
      "               precision    recall  f1-score   support\n",
      "\n",
      "           0       1.00      1.00      1.00        12\n",
      "           1       1.00      0.92      0.96        13\n",
      "           2       0.93      1.00      0.96        13\n",
      "\n",
      "    accuracy                           0.97        38\n",
      "   macro avg       0.98      0.97      0.97        38\n",
      "weighted avg       0.98      0.97      0.97        38\n",
      "\n"
     ]
    }
   ],
   "source": [
    "print(\"Clf report\\n\",logistic_clf_report)"
   ]
  },
  {
   "cell_type": "code",
   "execution_count": 61,
   "id": "1e48e81c",
   "metadata": {},
   "outputs": [],
   "source": [
    "#testing data evaluation\n",
    "y_pred_train =logistic_iris.predict(x_train)"
   ]
  },
  {
   "cell_type": "code",
   "execution_count": 63,
   "id": "ca6ede3c",
   "metadata": {},
   "outputs": [
    {
     "name": "stdout",
     "output_type": "stream",
     "text": [
      "[[38  0  0]\n",
      " [ 0 37  0]\n",
      " [ 0  0 37]]\n",
      "Clf report\n",
      "               precision    recall  f1-score   support\n",
      "\n",
      "           0       1.00      1.00      1.00        38\n",
      "           1       1.00      1.00      1.00        37\n",
      "           2       1.00      1.00      1.00        37\n",
      "\n",
      "    accuracy                           1.00       112\n",
      "   macro avg       1.00      1.00      1.00       112\n",
      "weighted avg       1.00      1.00      1.00       112\n",
      "\n"
     ]
    }
   ],
   "source": [
    "logistic_cnf_mtrix = confusion_matrix(y_train,y_pred_train)\n",
    "print(logistic_cnf_mtrix)\n",
    "logistic_clf_report = classification_report(y_train,y_pred_train)\n",
    "print(\"Clf report\\n\",logistic_clf_report)"
   ]
  },
  {
   "cell_type": "markdown",
   "id": "f6c23ff5",
   "metadata": {},
   "source": [
    "## Knn "
   ]
  },
  {
   "cell_type": "code",
   "execution_count": 64,
   "id": "3fc29ca7",
   "metadata": {},
   "outputs": [],
   "source": [
    "iris_knn_model = KNeighborsClassifier()"
   ]
  },
  {
   "cell_type": "code",
   "execution_count": 65,
   "id": "744d9080",
   "metadata": {},
   "outputs": [
    {
     "data": {
      "text/plain": [
       "KNeighborsClassifier()"
      ]
     },
     "execution_count": 65,
     "metadata": {},
     "output_type": "execute_result"
    }
   ],
   "source": [
    "    iris_knn_model.fit(x_train,y_train)"
   ]
  },
  {
   "cell_type": "code",
   "execution_count": 66,
   "id": "a7ed365a",
   "metadata": {},
   "outputs": [],
   "source": [
    "y_pred = iris_knn_model.predict(x_test)"
   ]
  },
  {
   "cell_type": "code",
   "execution_count": 69,
   "id": "c08711fb",
   "metadata": {},
   "outputs": [
    {
     "name": "stdout",
     "output_type": "stream",
     "text": [
      "[[12  0  0]\n",
      " [ 0 12  1]\n",
      " [ 0  0 13]]\n",
      "knn iris report\n",
      "               precision    recall  f1-score   support\n",
      "\n",
      "           0       1.00      1.00      1.00        12\n",
      "           1       1.00      0.92      0.96        13\n",
      "           2       0.93      1.00      0.96        13\n",
      "\n",
      "    accuracy                           0.97        38\n",
      "   macro avg       0.98      0.97      0.97        38\n",
      "weighted avg       0.98      0.97      0.97        38\n",
      "\n"
     ]
    }
   ],
   "source": [
    "#testing Data evaluation\n",
    "knn_cnf_mtrix = confusion_matrix(y_test,y_pred)\n",
    "print(knn_cnf_mtrix)\n",
    "knn_clf_report = classification_report(y_test,y_pred)\n",
    "print(\"knn iris report\\n\",knn_clf_report)"
   ]
  },
  {
   "cell_type": "code",
   "execution_count": 76,
   "id": "71e00013",
   "metadata": {},
   "outputs": [],
   "source": [
    "hyp = {\"n_neighbors\":np.arange(20),\n",
    "    \"leaf_size\":30,\n",
    "    \"p\":[1,2],}"
   ]
  },
  {
   "cell_type": "code",
   "execution_count": 78,
   "id": "9bf55bd8",
   "metadata": {},
   "outputs": [],
   "source": [
    "rmcv_knn = RandomizedSearchCV(iris_knn_model,hyp,cv=5)"
   ]
  },
  {
   "cell_type": "markdown",
   "id": "10d6e859",
   "metadata": {},
   "source": [
    "## Decision Tree"
   ]
  },
  {
   "cell_type": "code",
   "execution_count": 70,
   "id": "a10c0afe",
   "metadata": {},
   "outputs": [],
   "source": [
    "iris_dt_model = DecisionTreeClassifier()"
   ]
  },
  {
   "cell_type": "code",
   "execution_count": 71,
   "id": "d5ef9248",
   "metadata": {},
   "outputs": [
    {
     "data": {
      "text/plain": [
       "DecisionTreeClassifier()"
      ]
     },
     "execution_count": 71,
     "metadata": {},
     "output_type": "execute_result"
    }
   ],
   "source": [
    "iris_dt_model.fit(x_train,y_train)"
   ]
  },
  {
   "cell_type": "code",
   "execution_count": 73,
   "id": "b60418b7",
   "metadata": {},
   "outputs": [],
   "source": [
    "dt_y_pred = iris_dt_model.predict(x_test)"
   ]
  },
  {
   "cell_type": "code",
   "execution_count": 74,
   "id": "482e63be",
   "metadata": {},
   "outputs": [
    {
     "name": "stdout",
     "output_type": "stream",
     "text": [
      "[[12  0  0]\n",
      " [ 0 12  1]\n",
      " [ 0  0 13]]\n",
      "knn iris report\n",
      "               precision    recall  f1-score   support\n",
      "\n",
      "           0       1.00      1.00      1.00        12\n",
      "           1       1.00      0.92      0.96        13\n",
      "           2       0.93      1.00      0.96        13\n",
      "\n",
      "    accuracy                           0.97        38\n",
      "   macro avg       0.98      0.97      0.97        38\n",
      "weighted avg       0.98      0.97      0.97        38\n",
      "\n"
     ]
    }
   ],
   "source": [
    "#testing Data evaluation\n",
    "dt_cnf_mtrix = confusion_matrix(y_test,dt_y_pred)\n",
    "print(dt_cnf_mtrix)\n",
    "dt_clf_report = classification_report(y_test,dt_y_pred)\n",
    "print(\"dt iris report\\n\",dt_clf_report)"
   ]
  },
  {
   "cell_type": "markdown",
   "id": "3390d11d",
   "metadata": {},
   "source": [
    "## Random Forest"
   ]
  },
  {
   "cell_type": "code",
   "execution_count": 85,
   "id": "90e41b5e",
   "metadata": {},
   "outputs": [],
   "source": [
    "iris_rf_model = RandomForestClassifier()"
   ]
  },
  {
   "cell_type": "code",
   "execution_count": 86,
   "id": "324c634c",
   "metadata": {},
   "outputs": [
    {
     "data": {
      "text/plain": [
       "RandomForestClassifier()"
      ]
     },
     "execution_count": 86,
     "metadata": {},
     "output_type": "execute_result"
    }
   ],
   "source": [
    "iris_rf_model.fit(x_train,y_train)"
   ]
  },
  {
   "cell_type": "code",
   "execution_count": 88,
   "id": "bb8e7c00",
   "metadata": {},
   "outputs": [],
   "source": [
    "rf_y_pred = iris_rf_model.predict(x_test)"
   ]
  },
  {
   "cell_type": "code",
   "execution_count": 90,
   "id": "e693c0d1",
   "metadata": {},
   "outputs": [
    {
     "name": "stdout",
     "output_type": "stream",
     "text": [
      "[[12  0  0]\n",
      " [ 0 12  1]\n",
      " [ 0  0 13]]\n",
      "rf iris report\n",
      "               precision    recall  f1-score   support\n",
      "\n",
      "           0       1.00      1.00      1.00        12\n",
      "           1       1.00      0.92      0.96        13\n",
      "           2       0.93      1.00      0.96        13\n",
      "\n",
      "    accuracy                           0.97        38\n",
      "   macro avg       0.98      0.97      0.97        38\n",
      "weighted avg       0.98      0.97      0.97        38\n",
      "\n"
     ]
    }
   ],
   "source": [
    "#testing Data evaluation\n",
    "rf_cnf_mtrix = confusion_matrix(y_test,dt_y_pred)\n",
    "print(rf_cnf_mtrix)\n",
    "rf_clf_report = classification_report(y_test,dt_y_pred)\n",
    "print(\"rf iris report\\n\",rf_clf_report)"
   ]
  },
  {
   "cell_type": "code",
   "execution_count": 92,
   "id": "7687ad01",
   "metadata": {},
   "outputs": [
    {
     "data": {
      "text/plain": [
       "Index(['Id', 'SepalLengthCm', 'SepalWidthCm', 'PetalLengthCm', 'PetalWidthCm'], dtype='object')"
      ]
     },
     "execution_count": 92,
     "metadata": {},
     "output_type": "execute_result"
    }
   ],
   "source": [
    "x.columns"
   ]
  },
  {
   "cell_type": "code",
   "execution_count": 98,
   "id": "fec97d5c",
   "metadata": {},
   "outputs": [],
   "source": [
    "arr = np.array([[1,5.1,3.5,1.5,0.2]])"
   ]
  },
  {
   "cell_type": "code",
   "execution_count": 99,
   "id": "b71d4f75",
   "metadata": {},
   "outputs": [
    {
     "name": "stderr",
     "output_type": "stream",
     "text": [
      "C:\\Users\\Shree\\anaconda3\\lib\\site-packages\\sklearn\\base.py:450: UserWarning: X does not have valid feature names, but RandomForestClassifier was fitted with feature names\n",
      "  warnings.warn(\n"
     ]
    },
    {
     "data": {
      "text/plain": [
       "array([0], dtype=int64)"
      ]
     },
     "execution_count": 99,
     "metadata": {},
     "output_type": "execute_result"
    }
   ],
   "source": [
    "iris_rf_model.predict(arr)"
   ]
  },
  {
   "cell_type": "code",
   "execution_count": 100,
   "id": "f4c863cc",
   "metadata": {},
   "outputs": [],
   "source": [
    "import pickle"
   ]
  },
  {
   "cell_type": "code",
   "execution_count": 102,
   "id": "f542a728",
   "metadata": {},
   "outputs": [],
   "source": [
    "with open(\"rf_clf_model.pkl\",\"wb\") as f:\n",
    "    pickle.dump(iris_rf_model,f)"
   ]
  },
  {
   "cell_type": "code",
   "execution_count": null,
   "id": "bbf280e6",
   "metadata": {},
   "outputs": [],
   "source": []
  }
 ],
 "metadata": {
  "kernelspec": {
   "display_name": "Python 3 (ipykernel)",
   "language": "python",
   "name": "python3"
  },
  "language_info": {
   "codemirror_mode": {
    "name": "ipython",
    "version": 3
   },
   "file_extension": ".py",
   "mimetype": "text/x-python",
   "name": "python",
   "nbconvert_exporter": "python",
   "pygments_lexer": "ipython3",
   "version": "3.9.12"
  }
 },
 "nbformat": 4,
 "nbformat_minor": 5
}
